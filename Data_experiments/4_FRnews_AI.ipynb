{
 "cells": [
  {
   "cell_type": "markdown",
   "metadata": {},
   "source": [
    "# AI FR News"
   ]
  },
  {
   "cell_type": "code",
   "execution_count": 1,
   "metadata": {},
   "outputs": [
    {
     "data": {
      "text/html": [
       "<div>\n",
       "<style scoped>\n",
       "    .dataframe tbody tr th:only-of-type {\n",
       "        vertical-align: middle;\n",
       "    }\n",
       "\n",
       "    .dataframe tbody tr th {\n",
       "        vertical-align: top;\n",
       "    }\n",
       "\n",
       "    .dataframe thead th {\n",
       "        text-align: right;\n",
       "    }\n",
       "</style>\n",
       "<table border=\"1\" class=\"dataframe\">\n",
       "  <thead>\n",
       "    <tr style=\"text-align: right;\">\n",
       "      <th></th>\n",
       "      <th>Title</th>\n",
       "      <th>Link</th>\n",
       "      <th>Description</th>\n",
       "      <th>Publication Date</th>\n",
       "    </tr>\n",
       "  </thead>\n",
       "  <tbody>\n",
       "    <tr>\n",
       "      <th>0</th>\n",
       "      <td>AI: Virtual reality, concrete ambitions - Busi...</td>\n",
       "      <td>https://world.businessfrance.fr/nordic/2023/04...</td>\n",
       "      <td>In 2018, France was one of the first countries...</td>\n",
       "      <td>NaN</td>\n",
       "    </tr>\n",
       "    <tr>\n",
       "      <th>1</th>\n",
       "      <td>Keep an AI on France #1: Overview - Business F...</td>\n",
       "      <td>https://world.businessfrance.fr/nordic/2019/03...</td>\n",
       "      <td>NaN</td>\n",
       "      <td>NaN</td>\n",
       "    </tr>\n",
       "    <tr>\n",
       "      <th>2</th>\n",
       "      <td>FAQ du Volontariat International</td>\n",
       "      <td>https://mon-vie-via.businessfrance.fr/faq-vie-via</td>\n",
       "      <td>Contrat, salaire, logement, déplacements, vaca...</td>\n",
       "      <td>NaN</td>\n",
       "    </tr>\n",
       "    <tr>\n",
       "      <th>3</th>\n",
       "      <td>Keep an AI on France #2: Education - Business ...</td>\n",
       "      <td>https://world.businessfrance.fr/nordic/2019/03...</td>\n",
       "      <td>NaN</td>\n",
       "      <td>NaN</td>\n",
       "    </tr>\n",
       "    <tr>\n",
       "      <th>4</th>\n",
       "      <td>AI France SUMMIT 2020 : l’Intelligence artific...</td>\n",
       "      <td>https://www.techtalks.fr/ai-france-summit-2020...</td>\n",
       "      <td>Près de 2500 participants sont conviés à l’AI ...</td>\n",
       "      <td>04/03/2020</td>\n",
       "    </tr>\n",
       "  </tbody>\n",
       "</table>\n",
       "</div>"
      ],
      "text/plain": [
       "                                               Title  \\\n",
       "0  AI: Virtual reality, concrete ambitions - Busi...   \n",
       "1  Keep an AI on France #1: Overview - Business F...   \n",
       "2                   FAQ du Volontariat International   \n",
       "3  Keep an AI on France #2: Education - Business ...   \n",
       "4  AI France SUMMIT 2020 : l’Intelligence artific...   \n",
       "\n",
       "                                                Link  \\\n",
       "0  https://world.businessfrance.fr/nordic/2023/04...   \n",
       "1  https://world.businessfrance.fr/nordic/2019/03...   \n",
       "2  https://mon-vie-via.businessfrance.fr/faq-vie-via   \n",
       "3  https://world.businessfrance.fr/nordic/2019/03...   \n",
       "4  https://www.techtalks.fr/ai-france-summit-2020...   \n",
       "\n",
       "                                         Description Publication Date  \n",
       "0  In 2018, France was one of the first countries...              NaN  \n",
       "1                                                NaN              NaN  \n",
       "2  Contrat, salaire, logement, déplacements, vaca...              NaN  \n",
       "3                                                NaN              NaN  \n",
       "4  Près de 2500 participants sont conviés à l’AI ...       04/03/2020  "
      ]
     },
     "execution_count": 1,
     "metadata": {},
     "output_type": "execute_result"
    }
   ],
   "source": [
    "import pandas as pd\n",
    "DS = pd.read_csv(\"C:/Users/Jhonnatan/Documents/GitHub/Impact-of-AI-in-organizations/Datasets/news_articles.csv\")\n",
    "DS.head()"
   ]
  }
 ],
 "metadata": {
  "kernelspec": {
   "display_name": "base",
   "language": "python",
   "name": "python3"
  },
  "language_info": {
   "codemirror_mode": {
    "name": "ipython",
    "version": 3
   },
   "file_extension": ".py",
   "mimetype": "text/x-python",
   "name": "python",
   "nbconvert_exporter": "python",
   "pygments_lexer": "ipython3",
   "version": "3.10.9"
  }
 },
 "nbformat": 4,
 "nbformat_minor": 2
}
