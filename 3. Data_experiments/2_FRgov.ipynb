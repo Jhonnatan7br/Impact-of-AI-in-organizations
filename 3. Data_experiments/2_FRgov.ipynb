{
 "cells": [
  {
   "cell_type": "markdown",
   "metadata": {},
   "source": [
    "# AI info French Govermment"
   ]
  },
  {
   "cell_type": "code",
   "execution_count": 1,
   "metadata": {},
   "outputs": [
    {
     "data": {
      "text/html": [
       "<div>\n",
       "<style scoped>\n",
       "    .dataframe tbody tr th:only-of-type {\n",
       "        vertical-align: middle;\n",
       "    }\n",
       "\n",
       "    .dataframe tbody tr th {\n",
       "        vertical-align: top;\n",
       "    }\n",
       "\n",
       "    .dataframe thead th {\n",
       "        text-align: right;\n",
       "    }\n",
       "</style>\n",
       "<table border=\"1\" class=\"dataframe\">\n",
       "  <thead>\n",
       "    <tr style=\"text-align: right;\">\n",
       "      <th></th>\n",
       "      <th>title</th>\n",
       "      <th>description</th>\n",
       "      <th>URL</th>\n",
       "    </tr>\n",
       "  </thead>\n",
       "  <tbody>\n",
       "    <tr>\n",
       "      <th>0</th>\n",
       "      <td>Biocides</td>\n",
       "      <td>modifiant la directive 98/8/CE du Parlement eu...</td>\n",
       "      <td>https://www.economie.gouv.fr/dgccrf/publicatio...</td>\n",
       "    </tr>\n",
       "    <tr>\n",
       "      <th>1</th>\n",
       "      <td>Transformation numérique : les aides aux entre...</td>\n",
       "      <td>Francenum.gouv.fr propose des conseils concern...</td>\n",
       "      <td>https://www.economie.gouv.fr/cedef/aides-numer...</td>\n",
       "    </tr>\n",
       "    <tr>\n",
       "      <th>2</th>\n",
       "      <td>Rapports 2023</td>\n",
       "      <td>l'industrie de la santé chez Dassault Systèmes...</td>\n",
       "      <td>https://www.economie.gouv.fr/cge/rapports2023</td>\n",
       "    </tr>\n",
       "    <tr>\n",
       "      <th>3</th>\n",
       "      <td>Diversité et égalité des chances : Bercy accue...</td>\n",
       "      <td>Besoin en compétences : comment l'immigration ...</td>\n",
       "      <td>https://www.economie.gouv.fr/sommet-inclusion-...</td>\n",
       "    </tr>\n",
       "    <tr>\n",
       "      <th>4</th>\n",
       "      <td>Les enjeux de propriété intellectuelle dans l'...</td>\n",
       "      <td>Les enjeux de propriété intellectuelle dans l'...</td>\n",
       "      <td>https://www.economie.gouv.fr/apie/les-enjeux-d...</td>\n",
       "    </tr>\n",
       "  </tbody>\n",
       "</table>\n",
       "</div>"
      ],
      "text/plain": [
       "                                               title  \\\n",
       "0                                           Biocides   \n",
       "1  Transformation numérique : les aides aux entre...   \n",
       "2                                      Rapports 2023   \n",
       "3  Diversité et égalité des chances : Bercy accue...   \n",
       "4  Les enjeux de propriété intellectuelle dans l'...   \n",
       "\n",
       "                                         description  \\\n",
       "0  modifiant la directive 98/8/CE du Parlement eu...   \n",
       "1  Francenum.gouv.fr propose des conseils concern...   \n",
       "2  l'industrie de la santé chez Dassault Systèmes...   \n",
       "3  Besoin en compétences : comment l'immigration ...   \n",
       "4  Les enjeux de propriété intellectuelle dans l'...   \n",
       "\n",
       "                                                 URL  \n",
       "0  https://www.economie.gouv.fr/dgccrf/publicatio...  \n",
       "1  https://www.economie.gouv.fr/cedef/aides-numer...  \n",
       "2      https://www.economie.gouv.fr/cge/rapports2023  \n",
       "3  https://www.economie.gouv.fr/sommet-inclusion-...  \n",
       "4  https://www.economie.gouv.fr/apie/les-enjeux-d...  "
      ]
     },
     "execution_count": 1,
     "metadata": {},
     "output_type": "execute_result"
    }
   ],
   "source": [
    "import pandas as pd\n",
    "research = pd.read_excel(\"C:/Users/Jhonnatan/Documents/GitHub/Impact-of-AI-in-organizations/Datasets/AI_eco_gouvFR.xlsx\")\n",
    "research.head()\n",
    "#research.describe()"
   ]
  }
 ],
 "metadata": {
  "kernelspec": {
   "display_name": "base",
   "language": "python",
   "name": "python3"
  },
  "language_info": {
   "codemirror_mode": {
    "name": "ipython",
    "version": 3
   },
   "file_extension": ".py",
   "mimetype": "text/x-python",
   "name": "python",
   "nbconvert_exporter": "python",
   "pygments_lexer": "ipython3",
   "version": "3.10.9"
  }
 },
 "nbformat": 4,
 "nbformat_minor": 2
}
